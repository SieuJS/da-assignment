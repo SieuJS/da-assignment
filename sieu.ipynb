{
 "cells": [
  {
   "cell_type": "code",
   "execution_count": null,
   "metadata": {},
   "outputs": [],
   "source": [
    "import pandas as pd\n"
   ]
  },
  {
   "cell_type": "markdown",
   "metadata": {},
   "source": [
    "CÂU 1 : Tiền xử lý"
   ]
  },
  {
   "cell_type": "code",
   "execution_count": null,
   "metadata": {},
   "outputs": [],
   "source": [
    "df_diem_2023 = pd.read_csv('diem_thi_thpt_2023.csv', dtype={'sbd': str})\n",
    "df_diem_2024 = pd.read_csv('diem_thi_thpt_2024.csv', dtype={'sbd': str})\n",
    "df_hoi_dong = pd.read_csv('hoi_dong_thi.csv',dtype={'Mã tỉnh thành': str})\n",
    "print (df_hoi_dong)"
   ]
  },
  {
   "cell_type": "code",
   "execution_count": null,
   "metadata": {},
   "outputs": [],
   "source": [
    "df_diem_2023['Mã tỉnh thành'] = df_diem_2023['sbd'].str[:2].astype(int)\n",
    "df_hoi_dong['Mã tỉnh thành'] = df_hoi_dong['Mã tỉnh thành'].astype(int)\n",
    "\n",
    "df_diem_2023 = pd.merge(df_diem_2023, df_hoi_dong[['Mã tỉnh thành', 'Tên tỉnh thành']], on='Mã tỉnh thành', how='left')\n",
    "# Drop the 'ma_tinh' column if it's not needed afterward\n",
    "df_diem_2023.drop(columns=['Mã tỉnh thành'], inplace=True)\n",
    "\n",
    "df_diem_2024['Mã tỉnh thành'] = df_diem_2024['sbd'].str[:2].astype(int)\n",
    "df_diem_2024 = pd.merge(df_diem_2024, df_hoi_dong[['Mã tỉnh thành', 'Tên tỉnh thành']], on='Mã tỉnh thành', how='left')\n",
    "df_diem_2024.drop(columns=['Mã tỉnh thành'], inplace=True)\n",
    "\n",
    "# View the merged DataFrame\n",
    "df_diem_2023\n",
    "df_diem_2024"
   ]
  },
  {
   "cell_type": "code",
   "execution_count": null,
   "metadata": {},
   "outputs": [],
   "source": [
    "# Define the mapping for language codes to language names\n",
    "language_map = {\n",
    "    'N1': 'Tiếng Anh',\n",
    "    'N2': 'Tiếng Nga',\n",
    "    'N3': 'Tiếng Pháp',\n",
    "    'N4': 'Tiếng Trung Quốc',\n",
    "    'N5': 'Tiếng Đức',\n",
    "    'N6': 'Tiếng Nhật',\n",
    "    'N7': 'Tiếng Hàn'\n",
    "}\n",
    "\n",
    "# Assuming the language code is in a column called 'ma_ngoai_ngu' in both datasets\n",
    "\n",
    "# Add a new column for the language name in df_diem_2023\n",
    "df_diem_2023['Tên môn ngoại ngữ'] = df_diem_2023['ma_ngoai_ngu'].map(language_map)\n",
    "\n",
    "# Add a new column for the language name in df_diem_2024\n",
    "df_diem_2024['Tên môn ngoại ngữ'] = df_diem_2024['ma_ngoai_ngu'].map(language_map)\n",
    "\n",
    "# View the updated DataFrames\n",
    "df_diem_2023\n",
    "df_diem_2024\n",
    "df_diem_2024.to_csv('output.csv', index=False, encoding='utf-8-sig')\n"
   ]
  },
  {
   "cell_type": "code",
   "execution_count": null,
   "metadata": {},
   "outputs": [],
   "source": [
    "# Add a column to indicate the year for each dataset\n",
    "df_diem_2023['Năm'] = 2023\n",
    "df_diem_2024['Năm'] = 2024\n",
    "\n",
    "# Concatenate the two DataFrames\n",
    "df_diem_tong_hop = pd.concat([df_diem_2023, df_diem_2024], ignore_index=True)\n",
    "\n",
    "# View the combined DataFrame\n",
    "df_diem_tong_hop\n"
   ]
  },
  {
   "cell_type": "code",
   "execution_count": null,
   "metadata": {},
   "outputs": [],
   "source": [
    "CÂU 2 : HIỂN THỊ THÔNG TIN CƠ BẢN"
   ]
  },
  {
   "cell_type": "code",
   "execution_count": null,
   "metadata": {},
   "outputs": [],
   "source": [
    "# Display basic information\n",
    "print(\"Kích thước (Shape):\", df_diem_tong_hop.shape)\n",
    "print(\"\\nChiều (Dimensions):\", df_diem_tong_hop.ndim)\n",
    "print(\"\\nSố cột (Number of Columns):\", df_diem_tong_hop.shape[1])\n",
    "print(\"\\nThông tin kiểu dữ liệu của từng cột (Data Types):\")\n",
    "print(df_diem_tong_hop.dtypes)\n",
    "\n",
    "# Count missing values for each column\n",
    "print(\"\\nSố lượng dữ liệu bị thiếu của từng cột (Missing Values):\")\n",
    "print(df_diem_tong_hop.isnull().sum())\n",
    "\n",
    "# Display sample data\n",
    "print(\"\\nDữ liệu mẫu (Sample Data):\")\n",
    "print(df_diem_tong_hop.head())\n"
   ]
  },
  {
   "cell_type": "code",
   "execution_count": 9,
   "metadata": {},
   "outputs": [
    {
     "name": "stdout",
     "output_type": "stream",
     "text": [
      "\n",
      "Chỉ số thống kê cho năm 2023:\n",
      "\n",
      "               mean  median  mode       std  min   25%   50%   75%   max\n",
      "toan       6.250557    6.60  7.60  1.633336  0.0  5.20  6.60  7.60  10.0\n",
      "ngu_van    6.858194    7.00  7.00  1.326471  0.0  6.00  7.00  7.75  10.0\n",
      "ngoai_ngu  5.462410    5.20  4.20  1.966353  0.0  4.00  5.20  7.00  10.0\n",
      "vat_li     6.573900    6.75  7.50  1.486819  0.0  5.50  6.75  7.75  10.0\n",
      "hoa_hoc    6.744646    7.00  7.50  1.428468  0.0  5.75  7.00  7.75  10.0\n",
      "sinh_hoc   6.394933    6.50  6.50  1.206772  0.0  5.50  6.50  7.25  10.0\n",
      "lich_su    6.025629    6.00  5.75  1.552931  0.0  5.00  6.00  7.25  10.0\n",
      "dia_li     6.147523    6.25  6.25  1.168732  0.0  5.50  6.25  7.00  10.0\n",
      "gdcd       8.285805    8.50  9.00  1.137638  0.0  7.75  8.50  9.25  10.0\n",
      "\n",
      "Chỉ số thống kê cho năm 2024:\n",
      "\n",
      "               mean  median  mode       std  min  25%   50%   75%   max\n",
      "toan       6.447309    6.80  7.60  1.556900  0.0  5.4  6.80  7.60   9.8\n",
      "ngu_van    7.231146    7.50  8.00  1.330057  0.0  6.5  7.50  8.25  10.0\n",
      "ngoai_ngu  5.521938    5.20  4.60  1.880657  0.0  4.0  5.20  7.00  10.0\n",
      "vat_li     6.666866    7.00  8.00  1.631129  0.0  5.5  7.00  8.00  10.0\n",
      "hoa_hoc    6.680830    6.75  7.75  1.641470  0.0  5.5  6.75  8.00  10.0\n",
      "sinh_hoc   6.284079    6.25  6.50  1.244849  0.0  5.5  6.25  7.25  10.0\n",
      "lich_su    6.570343    6.50  6.75  1.462804  0.0  5.5  6.50  7.50  10.0\n",
      "dia_li     7.193541    7.25  7.25  1.283945  0.0  6.5  7.25  8.00  10.0\n",
      "gdcd       8.156503    8.25  8.75  1.042644  0.0  7.5  8.25  9.00  10.0\n"
     ]
    }
   ],
   "source": [
    "# Group the data by 'Năm'\n",
    "for year, group in df_diem_tong_hop.groupby('Năm'):\n",
    "    print(f\"\\nChỉ số thống kê cho năm {year}:\\n\")\n",
    "\n",
    "    # Select only numeric columns for statistical calculations\n",
    "    numeric_columns = group.select_dtypes(include='number').drop(columns=['Năm'])\n",
    "    \n",
    "    # Calculate statistics for each numeric subject column\n",
    "    subject_stats = numeric_columns.describe().T  # Basic statistics (mean, std, min, etc.)\n",
    "    subject_stats['median'] = numeric_columns.median()  # Add median\n",
    "    subject_stats['mode'] = numeric_columns.mode().iloc[0]  # Add mode (most common value for each column)\n",
    "\n",
    "    # Display the statistics\n",
    "    print(subject_stats[['mean', 'median', 'mode', 'std', 'min', '25%', '50%', '75%', 'max']])\n"
   ]
  },
  {
   "cell_type": "markdown",
   "metadata": {},
   "source": [
    "Câu 3 : Tiền xử lý dữ liệu"
   ]
  },
  {
   "cell_type": "code",
   "execution_count": 10,
   "metadata": {},
   "outputs": [
    {
     "name": "stdout",
     "output_type": "stream",
     "text": [
      "Cột 'toan' có kiểu dữ liệu và giá trị hợp lệ.\n",
      "Cột 'ngu_van' có kiểu dữ liệu và giá trị hợp lệ.\n",
      "Cột 'ngoai_ngu' có kiểu dữ liệu và giá trị hợp lệ.\n",
      "Cột 'vat_li' có kiểu dữ liệu và giá trị hợp lệ.\n",
      "Cột 'hoa_hoc' có kiểu dữ liệu và giá trị hợp lệ.\n",
      "Cột 'sinh_hoc' có kiểu dữ liệu và giá trị hợp lệ.\n",
      "Cột 'lich_su' có kiểu dữ liệu và giá trị hợp lệ.\n",
      "Cột 'dia_li' có kiểu dữ liệu và giá trị hợp lệ.\n",
      "Cột 'gdcd' có kiểu dữ liệu và giá trị hợp lệ.\n"
     ]
    }
   ],
   "source": [
    "# Select score columns by filtering numeric columns and excluding 'Năm'\n",
    "score_columns = df_diem_tong_hop.select_dtypes(include='number').drop(columns=['Năm']).columns\n",
    "\n",
    "# Check if all values in each score column are floats and within the range 0-10\n",
    "for column in score_columns:\n",
    "    # Check if the column contains only floats\n",
    "    if not pd.api.types.is_float_dtype(df_diem_tong_hop[column]):\n",
    "        print(f\"Kiểu dữ liệu không phải là số thực ở cột: {column}\")\n",
    "    \n",
    "    # Check if all values are within the range 0-10\n",
    "    out_of_range = df_diem_tong_hop[(df_diem_tong_hop[column] < 0) | (df_diem_tong_hop[column] > 10)]\n",
    "    if not out_of_range.empty:\n",
    "        print(f\"Cột '{column}' chứa giá trị ngoài khoảng 0-10:\\n{out_of_range[[column]]}\\n\")\n",
    "    else:\n",
    "        print(f\"Cột '{column}' có kiểu dữ liệu và giá trị hợp lệ.\")\n"
   ]
  }
 ],
 "metadata": {
  "kernelspec": {
   "display_name": "Python 3",
   "language": "python",
   "name": "python3"
  },
  "language_info": {
   "codemirror_mode": {
    "name": "ipython",
    "version": 3
   },
   "file_extension": ".py",
   "mimetype": "text/x-python",
   "name": "python",
   "nbconvert_exporter": "python",
   "pygments_lexer": "ipython3",
   "version": "3.12.3"
  }
 },
 "nbformat": 4,
 "nbformat_minor": 2
}
