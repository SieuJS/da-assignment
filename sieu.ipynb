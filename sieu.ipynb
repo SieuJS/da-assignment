{
 "cells": [
  {
   "cell_type": "code",
   "execution_count": 4,
   "metadata": {},
   "outputs": [],
   "source": [
    "import pandas as pd\n"
   ]
  },
  {
   "cell_type": "markdown",
   "metadata": {},
   "source": []
  },
  {
   "cell_type": "code",
   "execution_count": 5,
   "metadata": {},
   "outputs": [
    {
     "name": "stdout",
     "output_type": "stream",
     "text": [
      "              sbd  toan  ngu_van  ngoai_ngu  vat_li  hoa_hoc  sinh_hoc  \\\n",
      "0         1000001   8.4     8.50        9.2     NaN      NaN       NaN   \n",
      "1         1000002   7.2     8.50        9.2     NaN      NaN       NaN   \n",
      "2         1000003   NaN     6.50        NaN     NaN      NaN       NaN   \n",
      "3         1000004   7.8     8.25        7.8     NaN      NaN       NaN   \n",
      "4         1000005   7.2     8.00        7.8     NaN      NaN       NaN   \n",
      "...           ...   ...      ...        ...     ...      ...       ...   \n",
      "1022055  64006933   7.8     6.75        5.4     NaN      NaN       NaN   \n",
      "1022056  64006934   7.4     7.50        6.0     6.0     5.75      6.25   \n",
      "1022057  64006935   6.4     7.00        3.0     NaN      NaN       NaN   \n",
      "1022058  64006936   6.6     7.00        5.8     NaN      NaN       NaN   \n",
      "1022059  64006937   NaN     5.00        NaN     NaN      NaN       NaN   \n",
      "\n",
      "         lich_su  dia_li  gdcd ma_ngoai_ngu  \n",
      "0           6.75    6.00  9.00           N1  \n",
      "1           8.75    6.50  8.50           N1  \n",
      "2           9.25    7.50   NaN          NaN  \n",
      "3           4.50    6.25  8.25           N1  \n",
      "4           4.75    6.75  8.25           N1  \n",
      "...          ...     ...   ...          ...  \n",
      "1022055     8.50    7.75  9.75           N1  \n",
      "1022056      NaN     NaN   NaN           N1  \n",
      "1022057     5.50    5.75  7.25           N1  \n",
      "1022058     6.50    6.50  9.25           N1  \n",
      "1022059     4.25    4.75   NaN          NaN  \n",
      "\n",
      "[1022060 rows x 11 columns]\n"
     ]
    }
   ],
   "source": [
    "df_diem_2023 = pd.read_csv('diem_thi_thpt_2023.csv')\n",
    "df_diem_2024 = pd.read_csv('diem_thi_thpt_2024.csv')\n",
    "df_hoi_dong = pd.read_csv('hoi_dong_thi.csv')\n",
    "print (df_diem_2023)"
   ]
  },
  {
   "cell_type": "code",
   "execution_count": null,
   "metadata": {},
   "outputs": [],
   "source": []
  }
 ],
 "metadata": {
  "kernelspec": {
   "display_name": "Python 3",
   "language": "python",
   "name": "python3"
  },
  "language_info": {
   "codemirror_mode": {
    "name": "ipython",
    "version": 3
   },
   "file_extension": ".py",
   "mimetype": "text/x-python",
   "name": "python",
   "nbconvert_exporter": "python",
   "pygments_lexer": "ipython3",
   "version": "3.12.3"
  }
 },
 "nbformat": 4,
 "nbformat_minor": 2
}
