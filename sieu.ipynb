{
 "cells": [
  {
   "cell_type": "code",
   "execution_count": 4,
   "metadata": {},
   "outputs": [],
   "source": [
    "import pandas as pd\n"
   ]
  },
  {
   "cell_type": "markdown",
   "metadata": {},
   "source": []
  },
  {
   "cell_type": "code",
   "execution_count": 14,
   "metadata": {},
   "outputs": [
    {
     "name": "stdout",
     "output_type": "stream",
     "text": [
      "   Mã tỉnh thành          Tên tỉnh thành\n",
      "0              1        THÀNH PHỐ HÀ NỘI\n",
      "1              2   THÀNH PHỐ HỒ CHÍ MINH\n",
      "2              3     THÀNH PHỐ HẢI PHÒNG\n",
      "3              4       THÀNH PHỐ ĐÀ NẴNG\n",
      "4              5           TỈNH HÀ GIANG\n",
      "..           ...                     ...\n",
      "58            60           TỈNH BẠC LIÊU\n",
      "59            61             TỈNH CÀ MAU\n",
      "60            62          TỈNH ĐIỆN BIÊN\n",
      "61            63           TỈNH ĐĂK NÔNG\n",
      "62            64          TỈNH HẬU GIANG\n",
      "\n",
      "[63 rows x 2 columns]\n"
     ]
    }
   ],
   "source": [
    "df_diem_2023 = pd.read_csv('diem_thi_thpt_2023.csv', dtype={'sbd': str})\n",
    "df_diem_2024 = pd.read_csv('diem_thi_thpt_2024.csv', dtype={'sbd': str})\n",
    "df_hoi_dong = pd.read_csv('hoi_dong_thi.csv',dtype={'Mã tỉnh thành': str})\n",
    "print (df_hoi_dong)"
   ]
  },
  {
   "cell_type": "code",
   "execution_count": 18,
   "metadata": {},
   "outputs": [
    {
     "name": "stdout",
     "output_type": "stream",
     "text": [
      "              sbd  toan  ngu_van  ngoai_ngu  vat_li  hoa_hoc  sinh_hoc  \\\n",
      "0        01000001   8.4     6.75        8.0    6.00     5.25       5.0   \n",
      "1        01000002   8.6     8.50        7.2     NaN      NaN       NaN   \n",
      "2        01000003   8.2     8.75        8.2     NaN      NaN       NaN   \n",
      "3        01000004   4.8     8.50        7.4     NaN      NaN       NaN   \n",
      "4        01000005   8.6     9.00        7.8     NaN      NaN       NaN   \n",
      "...           ...   ...      ...        ...     ...      ...       ...   \n",
      "1061600  64007282   4.2     6.00        3.0     NaN      NaN       NaN   \n",
      "1061601  64007283   5.2     6.00        3.6     NaN      NaN       NaN   \n",
      "1061602  64007284   7.2     8.00        7.0    6.25     7.00       8.0   \n",
      "1061603  64007285   5.2     5.25        4.4     NaN      NaN       NaN   \n",
      "1061604  64007286   5.8     8.25        2.8     NaN      NaN       NaN   \n",
      "\n",
      "         lich_su  dia_li  gdcd ma_ngoai_ngu     Tên tỉnh thành  \n",
      "0            NaN     NaN   NaN           N1   THÀNH PHỐ HÀ NỘI  \n",
      "1           7.25    6.00  8.00           N1   THÀNH PHỐ HÀ NỘI  \n",
      "2           7.25    7.25  8.75           N1   THÀNH PHỐ HÀ NỘI  \n",
      "3           7.00    6.00  7.50           N1   THÀNH PHỐ HÀ NỘI  \n",
      "4           9.00    8.75  8.50           N1   THÀNH PHỐ HÀ NỘI  \n",
      "...          ...     ...   ...          ...                ...  \n",
      "1061600     5.25    6.25  7.50           N1     TỈNH HẬU GIANG  \n",
      "1061601     6.25    5.75  7.75           N1     TỈNH HẬU GIANG  \n",
      "1061602      NaN     NaN   NaN           N1     TỈNH HẬU GIANG  \n",
      "1061603     4.75    6.50  8.75           N1     TỈNH HẬU GIANG  \n",
      "1061604     5.00    7.25  8.25           N1     TỈNH HẬU GIANG  \n",
      "\n",
      "[1061605 rows x 12 columns]\n"
     ]
    }
   ],
   "source": [
    "df_diem_2023['Mã tỉnh thành'] = df_diem_2023['sbd'].str[:2].astype(int)\n",
    "df_hoi_dong['Mã tỉnh thành'] = df_hoi_dong['Mã tỉnh thành'].astype(int)\n",
    "\n",
    "df_new_diem_2023 = pd.merge(df_diem_2023, df_hoi_dong[['Mã tỉnh thành', 'Tên tỉnh thành']], on='Mã tỉnh thành', how='left')\n",
    "# Drop the 'ma_tinh' column if it's not needed afterward\n",
    "df_new_diem_2023.drop(columns=['Mã tỉnh thành'], inplace=True)\n",
    "\n",
    "df_diem_2024['Mã tỉnh thành'] = df_diem_2024['sbd'].str[:2].astype(int)\n",
    "df_new_diem_2024 = pd.merge(df_diem_2024, df_hoi_dong[['Mã tỉnh thành', 'Tên tỉnh thành']], on='Mã tỉnh thành', how='left')\n",
    "df_new_diem_2024.drop(columns=['Mã tỉnh thành'], inplace=True)\n",
    "\n",
    "# View the merged DataFrame\n",
    "print(df_new_diem_2024)"
   ]
  }
 ],
 "metadata": {
  "kernelspec": {
   "display_name": "Python 3",
   "language": "python",
   "name": "python3"
  },
  "language_info": {
   "codemirror_mode": {
    "name": "ipython",
    "version": 3
   },
   "file_extension": ".py",
   "mimetype": "text/x-python",
   "name": "python",
   "nbconvert_exporter": "python",
   "pygments_lexer": "ipython3",
   "version": "3.12.3"
  }
 },
 "nbformat": 4,
 "nbformat_minor": 2
}
